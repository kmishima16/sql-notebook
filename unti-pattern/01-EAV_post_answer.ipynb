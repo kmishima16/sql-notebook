{
 "cells": [
  {
   "cell_type": "code",
   "execution_count": null,
   "id": "4ff44bd1",
   "metadata": {},
   "outputs": [],
   "source": []
  },
  {
   "cell_type": "code",
   "execution_count": 1,
   "id": "a2479642",
   "metadata": {},
   "outputs": [],
   "source": [
    "%load_ext sql\n",
    "import os\n",
    "from sqlalchemy import create_engine\n",
    "\n",
    "pgconfig = {\n",
    "    'host': 'db',\n",
    "    'port': os.environ['PG_PORT'],\n",
    "    'database': os.environ['PG_DATABASE'],\n",
    "    'user': os.environ['PG_USER'],\n",
    "    'password': os.environ['PG_PASSWORD'],\n",
    "}\n",
    "dsl = 'postgresql://{user}:{password}@{host}:{port}/{database}'.format(**pgconfig)\n",
    "conn = create_engine(dsl)\n",
    "\n",
    "# MagicコマンドでSQLを書くための設定\n",
    "%sql conn"
   ]
  },
  {
   "cell_type": "code",
   "execution_count": 6,
   "id": "48a9f637",
   "metadata": {
    "vscode": {
     "languageId": "sql"
    }
   },
   "outputs": [
    {
     "name": "stdout",
     "output_type": "stream",
     "text": [
      "*  postgresql://padawan:***@db:5432/dsdojo_db\n",
      "Done.\n",
      "Done.\n",
      "10 rows affected.\n",
      "10 rows affected.\n"
     ]
    },
    {
     "data": {
      "text/plain": [
       "[]"
      ]
     },
     "execution_count": 6,
     "metadata": {},
     "output_type": "execute_result"
    }
   ],
   "source": [
    "%%sql\n",
    "drop table if exists posts;\n",
    "CREATE TABLE posts (\n",
    "    id INT PRIMARY KEY,\n",
    "    post_type VARCHAR(255) NOT NULL,\n",
    "    title VARCHAR(255),\n",
    "    body TEXT NOT NULL,\n",
    "    author_name VARCHAR(255) NOT NULL,\n",
    "    parent_id INT,\n",
    "    tags VARCHAR(255),\n",
    "    created_at TIMESTAMP NOT NULL\n",
    ");\n",
    "\n",
    "INSERT INTO posts (id, post_type, title, body, author_name, parent_id, tags, created_at) VALUES\n",
    "(1, 'question', 'Docker Composeで永続化を設定する方法が知りたい', 'Docker Composeでコンテナを立ち上げましたが、再起動するとデータが消えてしまいます。`volumes`の設定方法について具体的な例を教えてください。', '山本太郎', NULL, 'Docker,Volume', '2025-05-10 10:00:00'),\n",
    "(2, 'question', 'JavaScriptの非同期処理について理解を深めたい', '`Promise`と`async/await`の違いと、どのような場面で使い分けるべきかについて、初心者にもわかりやすい解説をお願いします。', '佐藤花子', NULL, 'JavaScript,非同期処理', '2025-05-10 10:30:00'),\n",
    "(3, 'question', 'SQLのJOINの種類と使い分けを教えてください', '`INNER JOIN`, `LEFT JOIN`, `RIGHT JOIN`, `FULL JOIN`の基本的な動作と、実務での使い分けの例を知りたいです。', '田中健太', NULL, 'SQL,JOIN', '2025-05-10 11:00:00'),\n",
    "(4, 'question', 'AWS S3のバケットポリシーの設定でハマっています', '特定のIAMユーザーからのみアクセスを許可するS3バケットポリシーの書き方がわかりません。`Principal`と`Action`の設定例を提示してください。', '鈴木みどり', NULL, 'AWS,S3,IAM', '2025-05-10 12:00:00'),\n",
    "(5, 'question', 'Pythonのデコレータの仕組みについて', 'Pythonのデコレータがどのように動作しているのか、具体的なコード例を使って解説していただけませんか？', '高橋悟', NULL, 'Python,デコレータ', '2025-05-10 13:00:00'),\n",
    "(6, 'question', 'Gitで間違ってコミットしたファイルを修正するには？', '既にリモートリポジトリにプッシュしてしまったコミットの、特定のファイルだけを修正してコミットし直したいです。', '小林由美', NULL, 'Git,コミット', '2025-05-10 14:00:00'),\n",
    "(7, 'question', 'CSS GridとFlexboxの使い分けの基準', 'どちらもレイアウトに使えますが、どのような基準でCSS GridとFlexboxを使い分けるのが一般的ですか？', '渡辺啓介', NULL, 'CSS,レイアウト', '2025-05-10 15:00:00'),\n",
    "(8, 'question', 'Nginxのリバースプロキシ設定の基本', 'Nginxを使って、バックエンドのアプリケーションサーバーへトラフィックを転送するリバースプロキシの設定方法を教えてください。', '中村綾子', NULL, 'Nginx,リバースプロキシ', '2025-05-10 16:00:00'),\n",
    "(9, 'question', 'Go言語のポインタについて教えてください', 'Go言語のポインタがどのような役割を果たしているのか、C言語のポインタとの違いも含めて解説をお願いします。', '加藤拓海', NULL, 'Go,ポインタ', '2025-05-10 17:00:00'),\n",
    "(10, 'question', 'Vue.jsでコンポーネント間のデータ連携はどうやる？', '親子コンポーネント間、あるいは全く関係のないコンポーネント間でデータをやり取りする一般的な方法が知りたいです。', '吉田美咲', NULL, 'Vue.js,State', '2025-05-10 18:00:00');\n",
    "\n",
    "INSERT INTO posts (id, post_type, title, body, author_name, parent_id, tags, created_at) VALUES\n",
    "(11, 'answer', NULL, '質問1について、`volumes:`セクションでホスト側のディレクトリとコンテナ側のディレクトリをマッピングすることで永続化できます。例えば、`./data:/app/data`のように記述します。', '高田修平', 1, NULL, '2025-05-10 10:15:00'),\n",
    "(12, 'answer', NULL, '質問2の非同期処理について：`Promise`は非同期処理の結果を扱うオブジェクトで、`async/await`はそれをより同期処理のように記述するためのシンタックスシュガーです。複雑なチェーンには`async/await`が可読性を高めます。', '井上まゆみ', 2, NULL, '2025-05-10 10:45:00'),\n",
    "(13, 'answer', NULL, '質問3のJOINについて、`INNER JOIN`は両方のテーブルに一致する行、`LEFT JOIN`は左側のテーブルの全ての行と一致する右側の行を返します。これが最も基本的な使い分けです。', '松本大輔', 3, NULL, '2025-05-10 11:15:00'),\n",
    "(14, 'answer', NULL, '質問4のS3ポリシーについて、`\"Principal\": {\"AWS\": \"arn:aws:iam::[Account ID]/[IAM Name]\"}`と設定し、`\"Action\"`に許可したい操作を記述します。', '宮本恵美', 4, NULL, '2025-05-10 12:15:00'),\n",
    "(15, 'answer', NULL, '質問5のデコレータについて、デコレータは関数を受け取り、何らかの処理を加えた新しい関数を返す関数です。クロージャを使って実装されることが多いです。', '林裕也', 5, NULL, '2025-05-10 13:15:00'),\n",
    "(16, 'answer', NULL, '質問6のGitの修正について：プッシュ後であれば、`git revert [commit hash]`で打ち消しコミットを作成するか、リスクを理解の上で`git push --force`と`git rebase -i`を使う方法があります。', '森本香織', 6, NULL, '2025-05-10 14:15:00'),\n",
    "(17, 'answer', NULL, '質問7のレイアウト：**CSS Grid**は二次元（行と列）のレイアウト、**Flexbox**は一次元（行か列）のレイアウトに適しています。全体のページ構造にはGrid、コンポーネント内部の要素配置にはFlexboxといった使い分けが多いです。', '岡本哲也', 7, NULL, '2025-05-10 15:15:00'),\n",
    "(18, 'answer', NULL, '質問8のNginxリバースプロキシ設定の基本は、`location / { proxy_pass http://backend_server_ip:port; }`を`server`ブロック内に記述することです。', '佐野美穂', 8, NULL, '2025-05-10 16:15:00'),\n",
    "(19, 'answer', NULL, '質問9のGoのポインタは、変数のメモリアドレスを保持します。C言語と同様に、関数の引数に渡すことで元の変数を変更できますが、C言語より安全な設計になっています。', '野村大樹', 9, NULL, '2025-05-10 17:15:00'),\n",
    "(20, 'answer', NULL, '質問10のVue.jsのデータ連携は、親子間では`props`と`emit`が基本です。非関連コンポーネントや大規模な場合は**Vuex**や**Pinia**などの状態管理ライブラリの使用を検討します。', '清水里奈', 10, NULL, '2025-05-10 18:15:00');"
   ]
  },
  {
   "cell_type": "markdown",
   "id": "d9778171",
   "metadata": {},
   "source": [
    "## 修正箇所\n",
    "\n",
    "### post_type, parent_id\n",
    "\n",
    "postとanswerのtypeがあり、answerのレコードは対応するpostのレコードがparent_idとして格納されている\n",
    "→ postとanswerに\n",
    "\n",
    "### tags\n",
    "\n",
    "tagsは多対多テーブルに"
   ]
  }
 ],
 "metadata": {
  "kernelspec": {
   "display_name": "Python 3 (ipykernel)",
   "language": "python",
   "name": "python3"
  },
  "language_info": {
   "codemirror_mode": {
    "name": "ipython",
    "version": 3
   },
   "file_extension": ".py",
   "mimetype": "text/x-python",
   "name": "python",
   "nbconvert_exporter": "python",
   "pygments_lexer": "ipython3",
   "version": "3.11.5"
  }
 },
 "nbformat": 4,
 "nbformat_minor": 5
}

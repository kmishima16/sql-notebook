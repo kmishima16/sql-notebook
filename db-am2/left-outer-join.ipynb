{
 "cells": [
  {
   "cell_type": "code",
   "execution_count": 1,
   "id": "c033dfa8",
   "metadata": {},
   "outputs": [],
   "source": [
    "%load_ext sql\n",
    "import os\n",
    "from sqlalchemy import create_engine\n",
    "\n",
    "pgconfig = {\n",
    "    'host': 'db',\n",
    "    'port': os.environ['PG_PORT'],\n",
    "    'database': os.environ['PG_DATABASE'],\n",
    "    'user': os.environ['PG_USER'],\n",
    "    'password': os.environ['PG_PASSWORD'],\n",
    "}\n",
    "dsl = 'postgresql://{user}:{password}@{host}:{port}/{database}'.format(**pgconfig)\n",
    "conn = create_engine(dsl)\n",
    "\n",
    "# MagicコマンドでSQLを書くための設定\n",
    "%sql conn"
   ]
  },
  {
   "cell_type": "code",
   "execution_count": 4,
   "id": "ccc7c5ba",
   "metadata": {
    "vscode": {
     "languageId": "sql"
    }
   },
   "outputs": [
    {
     "name": "stdout",
     "output_type": "stream",
     "text": [
      "*  postgresql://padawan:***@db:5432/dsdojo_db\n",
      "Done.\n",
      "Done.\n",
      "1 rows affected.\n",
      "1 rows affected.\n",
      "1 rows affected.\n",
      "1 rows affected.\n",
      "1 rows affected.\n",
      "1 rows affected.\n",
      "1 rows affected.\n",
      "1 rows affected.\n"
     ]
    },
    {
     "data": {
      "text/plain": [
       "[]"
      ]
     },
     "execution_count": 4,
     "metadata": {},
     "output_type": "execute_result"
    }
   ],
   "source": [
    "%%sql\n",
    "drop table if exists SHAIN_SHUTOKU_SHIKAKU;\n",
    "CREATE TABLE SHAIN_SHUTOKU_SHIKAKU (\n",
    "    社員コード CHAR(4),\n",
    "    資格     CHAR(2)\n",
    ");\n",
    "INSERT INTO SHAIN_SHUTOKU_SHIKAKU (社員コード, 資格) VALUES ('S001', 'FE');\n",
    "INSERT INTO SHAIN_SHUTOKU_SHIKAKU (社員コード, 資格) VALUES ('S001', 'AP');\n",
    "INSERT INTO SHAIN_SHUTOKU_SHIKAKU (社員コード, 資格) VALUES ('S001', 'DB');\n",
    "INSERT INTO SHAIN_SHUTOKU_SHIKAKU (社員コード, 資格) VALUES ('S002', 'FE');\n",
    "INSERT INTO SHAIN_SHUTOKU_SHIKAKU (社員コード, 資格) VALUES ('S002', 'SM');\n",
    "INSERT INTO SHAIN_SHUTOKU_SHIKAKU (社員コード, 資格) VALUES ('S003', 'FE');\n",
    "INSERT INTO SHAIN_SHUTOKU_SHIKAKU (社員コード, 資格) VALUES ('S004', 'AP');\n",
    "INSERT INTO SHAIN_SHUTOKU_SHIKAKU (社員コード, 資格) VALUES ('S005', NULL); -- NULL値は引用符で囲みません"
   ]
  },
  {
   "cell_type": "code",
   "execution_count": 6,
   "id": "20147447",
   "metadata": {
    "vscode": {
     "languageId": "sql"
    }
   },
   "outputs": [
    {
     "name": "stdout",
     "output_type": "stream",
     "text": [
      "*  postgresql://padawan:***@db:5432/dsdojo_db\n",
      "8 rows affected.\n"
     ]
    },
    {
     "data": {
      "text/html": [
       "<table>\n",
       "    <thead>\n",
       "        <tr>\n",
       "            <th>社員コード</th>\n",
       "            <th>資格</th>\n",
       "        </tr>\n",
       "    </thead>\n",
       "    <tbody>\n",
       "        <tr>\n",
       "            <td>S001</td>\n",
       "            <td>FE</td>\n",
       "        </tr>\n",
       "        <tr>\n",
       "            <td>S001</td>\n",
       "            <td>AP</td>\n",
       "        </tr>\n",
       "        <tr>\n",
       "            <td>S001</td>\n",
       "            <td>DB</td>\n",
       "        </tr>\n",
       "        <tr>\n",
       "            <td>S002</td>\n",
       "            <td>FE</td>\n",
       "        </tr>\n",
       "        <tr>\n",
       "            <td>S002</td>\n",
       "            <td>SM</td>\n",
       "        </tr>\n",
       "        <tr>\n",
       "            <td>S003</td>\n",
       "            <td>FE</td>\n",
       "        </tr>\n",
       "        <tr>\n",
       "            <td>S004</td>\n",
       "            <td>AP</td>\n",
       "        </tr>\n",
       "        <tr>\n",
       "            <td>S005</td>\n",
       "            <td>None</td>\n",
       "        </tr>\n",
       "    </tbody>\n",
       "</table>"
      ],
      "text/plain": [
       "[('S001', 'FE'),\n",
       " ('S001', 'AP'),\n",
       " ('S001', 'DB'),\n",
       " ('S002', 'FE'),\n",
       " ('S002', 'SM'),\n",
       " ('S003', 'FE'),\n",
       " ('S004', 'AP'),\n",
       " ('S005', None)]"
      ]
     },
     "execution_count": 6,
     "metadata": {},
     "output_type": "execute_result"
    }
   ],
   "source": [
    "%%sql\n",
    "SELECT * FROM SHAIN_SHUTOKU_SHIKAKU;"
   ]
  },
  {
   "cell_type": "markdown",
   "id": "3179f457",
   "metadata": {},
   "source": [
    "### Q: 以下の、FEとAPを資格として持つ社員の結果を作るために必要なクエリは？\n",
    "\n",
    "\n",
    "| 社員コード | 資格1 | 資格2 |\n",
    "| :---: | :---: | :---: |\n",
    "| S001 | FE | AP |\n",
    "| S002 | FE | NULL |\n",
    "| S003 | FE | NULL |\n"
   ]
  },
  {
   "cell_type": "code",
   "execution_count": 21,
   "id": "82de3828",
   "metadata": {
    "vscode": {
     "languageId": "sql"
    }
   },
   "outputs": [
    {
     "name": "stdout",
     "output_type": "stream",
     "text": [
      "*  postgresql://padawan:***@db:5432/dsdojo_db\n",
      "16 rows affected.\n"
     ]
    },
    {
     "data": {
      "text/html": [
       "<table>\n",
       "    <thead>\n",
       "        <tr>\n",
       "            <th>社員コード</th>\n",
       "            <th>資格1</th>\n",
       "            <th>資格2</th>\n",
       "        </tr>\n",
       "    </thead>\n",
       "    <tbody>\n",
       "        <tr>\n",
       "            <td>S001</td>\n",
       "            <td>FE</td>\n",
       "            <td>FE</td>\n",
       "        </tr>\n",
       "        <tr>\n",
       "            <td>S001</td>\n",
       "            <td>FE</td>\n",
       "            <td>AP</td>\n",
       "        </tr>\n",
       "        <tr>\n",
       "            <td>S001</td>\n",
       "            <td>FE</td>\n",
       "            <td>DB</td>\n",
       "        </tr>\n",
       "        <tr>\n",
       "            <td>S001</td>\n",
       "            <td>AP</td>\n",
       "            <td>FE</td>\n",
       "        </tr>\n",
       "        <tr>\n",
       "            <td>S001</td>\n",
       "            <td>AP</td>\n",
       "            <td>AP</td>\n",
       "        </tr>\n",
       "        <tr>\n",
       "            <td>S001</td>\n",
       "            <td>AP</td>\n",
       "            <td>DB</td>\n",
       "        </tr>\n",
       "        <tr>\n",
       "            <td>S001</td>\n",
       "            <td>DB</td>\n",
       "            <td>FE</td>\n",
       "        </tr>\n",
       "        <tr>\n",
       "            <td>S001</td>\n",
       "            <td>DB</td>\n",
       "            <td>AP</td>\n",
       "        </tr>\n",
       "        <tr>\n",
       "            <td>S001</td>\n",
       "            <td>DB</td>\n",
       "            <td>DB</td>\n",
       "        </tr>\n",
       "        <tr>\n",
       "            <td>S002</td>\n",
       "            <td>FE</td>\n",
       "            <td>FE</td>\n",
       "        </tr>\n",
       "        <tr>\n",
       "            <td>S002</td>\n",
       "            <td>FE</td>\n",
       "            <td>SM</td>\n",
       "        </tr>\n",
       "        <tr>\n",
       "            <td>S002</td>\n",
       "            <td>SM</td>\n",
       "            <td>FE</td>\n",
       "        </tr>\n",
       "        <tr>\n",
       "            <td>S002</td>\n",
       "            <td>SM</td>\n",
       "            <td>SM</td>\n",
       "        </tr>\n",
       "        <tr>\n",
       "            <td>S003</td>\n",
       "            <td>FE</td>\n",
       "            <td>FE</td>\n",
       "        </tr>\n",
       "        <tr>\n",
       "            <td>S004</td>\n",
       "            <td>AP</td>\n",
       "            <td>AP</td>\n",
       "        </tr>\n",
       "        <tr>\n",
       "            <td>S005</td>\n",
       "            <td>None</td>\n",
       "            <td>None</td>\n",
       "        </tr>\n",
       "    </tbody>\n",
       "</table>"
      ],
      "text/plain": [
       "[('S001', 'FE', 'FE'),\n",
       " ('S001', 'FE', 'AP'),\n",
       " ('S001', 'FE', 'DB'),\n",
       " ('S001', 'AP', 'FE'),\n",
       " ('S001', 'AP', 'AP'),\n",
       " ('S001', 'AP', 'DB'),\n",
       " ('S001', 'DB', 'FE'),\n",
       " ('S001', 'DB', 'AP'),\n",
       " ('S001', 'DB', 'DB'),\n",
       " ('S002', 'FE', 'FE'),\n",
       " ('S002', 'FE', 'SM'),\n",
       " ('S002', 'SM', 'FE'),\n",
       " ('S002', 'SM', 'SM'),\n",
       " ('S003', 'FE', 'FE'),\n",
       " ('S004', 'AP', 'AP'),\n",
       " ('S005', None, None)]"
      ]
     },
     "execution_count": 21,
     "metadata": {},
     "output_type": "execute_result"
    }
   ],
   "source": [
    "%%sql\n",
    "-- OUTER JOINを使って資格の組み合わせ表を作る\n",
    "SELECT \n",
    "    T1.社員コード,\n",
    "    T1.資格 AS 資格1,\n",
    "    T2.資格 AS 資格2\n",
    "FROM \n",
    "    SHAIN_SHUTOKU_SHIKAKU AS T1\n",
    "LEFT OUTER JOIN SHAIN_SHUTOKU_SHIKAKU AS T2 \n",
    "    ON T1.社員コード = T2.社員コード;"
   ]
  },
  {
   "cell_type": "code",
   "execution_count": 18,
   "id": "bf679b4d",
   "metadata": {
    "vscode": {
     "languageId": "sql"
    }
   },
   "outputs": [
    {
     "name": "stdout",
     "output_type": "stream",
     "text": [
      "*  postgresql://padawan:***@db:5432/dsdojo_db\n",
      "3 rows affected.\n"
     ]
    },
    {
     "data": {
      "text/html": [
       "<table>\n",
       "    <thead>\n",
       "        <tr>\n",
       "            <th>社員コード</th>\n",
       "            <th>資格1</th>\n",
       "            <th>資格2</th>\n",
       "        </tr>\n",
       "    </thead>\n",
       "    <tbody>\n",
       "        <tr>\n",
       "            <td>S001</td>\n",
       "            <td>FE</td>\n",
       "            <td>AP</td>\n",
       "        </tr>\n",
       "        <tr>\n",
       "            <td>S002</td>\n",
       "            <td>FE</td>\n",
       "            <td>None</td>\n",
       "        </tr>\n",
       "        <tr>\n",
       "            <td>S003</td>\n",
       "            <td>FE</td>\n",
       "            <td>None</td>\n",
       "        </tr>\n",
       "    </tbody>\n",
       "</table>"
      ],
      "text/plain": [
       "[('S001', 'FE', 'AP'), ('S002', 'FE', None), ('S003', 'FE', None)]"
      ]
     },
     "execution_count": 18,
     "metadata": {},
     "output_type": "execute_result"
    }
   ],
   "source": [
    "%%sql\n",
    "-- A1 WHERE句でFEをもつ社員をフィルタした後, ON句でFEかつAPの組み合わせを抽出\n",
    "SELECT \n",
    "    T1.社員コード,\n",
    "    T1.資格 AS 資格1,\n",
    "    T2.資格 AS 資格2\n",
    "FROM \n",
    "    SHAIN_SHUTOKU_SHIKAKU AS T1\n",
    "LEFT OUTER JOIN SHAIN_SHUTOKU_SHIKAKU AS T2 \n",
    "    ON T1.社員コード = T2.社員コード \n",
    "        AND T1.資格 = 'FE' \n",
    "        AND T2.資格 = 'AP'\n",
    "WHERE\n",
    "    T1.資格 = 'FE';"
   ]
  },
  {
   "cell_type": "code",
   "execution_count": 17,
   "id": "39db6f0a",
   "metadata": {
    "vscode": {
     "languageId": "sql"
    }
   },
   "outputs": [
    {
     "name": "stdout",
     "output_type": "stream",
     "text": [
      "*  postgresql://padawan:***@db:5432/dsdojo_db\n",
      "3 rows affected.\n"
     ]
    },
    {
     "data": {
      "text/html": [
       "<table>\n",
       "    <thead>\n",
       "        <tr>\n",
       "            <th>社員コード</th>\n",
       "            <th>資格1</th>\n",
       "            <th>資格2</th>\n",
       "        </tr>\n",
       "    </thead>\n",
       "    <tbody>\n",
       "        <tr>\n",
       "            <td>S001</td>\n",
       "            <td>FE</td>\n",
       "            <td>AP</td>\n",
       "        </tr>\n",
       "        <tr>\n",
       "            <td>S002</td>\n",
       "            <td>FE</td>\n",
       "            <td>None</td>\n",
       "        </tr>\n",
       "        <tr>\n",
       "            <td>S003</td>\n",
       "            <td>FE</td>\n",
       "            <td>None</td>\n",
       "        </tr>\n",
       "    </tbody>\n",
       "</table>"
      ],
      "text/plain": [
       "[('S001', 'FE', 'AP'), ('S002', 'FE', None), ('S003', 'FE', None)]"
      ]
     },
     "execution_count": 17,
     "metadata": {},
     "output_type": "execute_result"
    }
   ],
   "source": [
    "%%sql\n",
    "-- A2 FEをもつ社員をフィルタした後, APの資格を持つかどうかで資格2を設定\n",
    "SELECT \n",
    "    T1.社員コード,\n",
    "    T1.資格 AS 資格1,\n",
    "    CASE \n",
    "        WHEN T2.資格 = 'AP' THEN 'AP'\n",
    "        ELSE NULL\n",
    "    END AS 資格2\n",
    "FROM \n",
    "    SHAIN_SHUTOKU_SHIKAKU AS T1\n",
    "LEFT OUTER JOIN SHAIN_SHUTOKU_SHIKAKU AS T2 \n",
    "    ON T1.社員コード = T2.社員コード \n",
    "        AND T2.資格 = 'AP'\n",
    "WHERE\n",
    "    T1.資格 = 'FE';"
   ]
  }
 ],
 "metadata": {
  "kernelspec": {
   "display_name": "Python 3 (ipykernel)",
   "language": "python",
   "name": "python3"
  }
 },
 "nbformat": 4,
 "nbformat_minor": 5
}

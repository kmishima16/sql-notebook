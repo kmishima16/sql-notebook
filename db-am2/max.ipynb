{
 "cells": [
  {
   "cell_type": "code",
   "execution_count": 1,
   "id": "44597960",
   "metadata": {},
   "outputs": [],
   "source": [
    "%load_ext sql\n",
    "import os\n",
    "from sqlalchemy import create_engine\n",
    "\n",
    "pgconfig = {\n",
    "    'host': 'db',\n",
    "    'port': os.environ['PG_PORT'],\n",
    "    'database': os.environ['PG_DATABASE'],\n",
    "    'user': os.environ['PG_USER'],\n",
    "    'password': os.environ['PG_PASSWORD'],\n",
    "}\n",
    "dsl = 'postgresql://{user}:{password}@{host}:{port}/{database}'.format(**pgconfig)\n",
    "conn = create_engine(dsl)\n",
    "\n",
    "# MagicコマンドでSQLを書くための設定\n",
    "%sql conn"
   ]
  },
  {
   "cell_type": "code",
   "execution_count": 12,
   "id": "1a764b76",
   "metadata": {
    "vscode": {
     "languageId": "sql"
    }
   },
   "outputs": [
    {
     "name": "stdout",
     "output_type": "stream",
     "text": [
      "*  postgresql://padawan:***@db:5432/dsdojo_db\n",
      "Done.\n",
      "Done.\n",
      "6 rows affected.\n"
     ]
    },
    {
     "data": {
      "text/plain": [
       "[]"
      ]
     },
     "execution_count": 12,
     "metadata": {},
     "output_type": "execute_result"
    }
   ],
   "source": [
    "%%sql\n",
    "drop table if exists kaiin;\n",
    "CREATE TABLE kaiin (\n",
    "    行番号 INTEGER PRIMARY KEY,\n",
    "    会員番号 TEXT,\n",
    "    項目名 TEXT,\n",
    "    項目値 TEXT\n",
    ");\n",
    "INSERT INTO kaiin (行番号, 会員番号, 項目名, 項目値) VALUES\n",
    "(1, '0111', '会員名', '情報太郎'),\n",
    "(2, '0111', '最終購入年月日', '2019-02-05'),\n",
    "(3, '0112', '会員名', '情報花子'),\n",
    "(4, '0112', '最終購入年月日', '2019-01-30'),\n",
    "(5, '0112', '最終購入年月日', '2019-02-01'),\n",
    "(6, '0113', '会員名', '情報次郎');"
   ]
  },
  {
   "cell_type": "code",
   "execution_count": 13,
   "id": "2cd035aa",
   "metadata": {
    "vscode": {
     "languageId": "sql"
    }
   },
   "outputs": [
    {
     "name": "stdout",
     "output_type": "stream",
     "text": [
      "*  postgresql://padawan:***@db:5432/dsdojo_db\n",
      "6 rows affected.\n"
     ]
    },
    {
     "data": {
      "text/html": [
       "<table>\n",
       "    <thead>\n",
       "        <tr>\n",
       "            <th>行番号</th>\n",
       "            <th>会員番号</th>\n",
       "            <th>項目名</th>\n",
       "            <th>項目値</th>\n",
       "        </tr>\n",
       "    </thead>\n",
       "    <tbody>\n",
       "        <tr>\n",
       "            <td>1</td>\n",
       "            <td>0111</td>\n",
       "            <td>会員名</td>\n",
       "            <td>情報太郎</td>\n",
       "        </tr>\n",
       "        <tr>\n",
       "            <td>2</td>\n",
       "            <td>0111</td>\n",
       "            <td>最終購入年月日</td>\n",
       "            <td>2019-02-05</td>\n",
       "        </tr>\n",
       "        <tr>\n",
       "            <td>3</td>\n",
       "            <td>0112</td>\n",
       "            <td>会員名</td>\n",
       "            <td>情報花子</td>\n",
       "        </tr>\n",
       "        <tr>\n",
       "            <td>4</td>\n",
       "            <td>0112</td>\n",
       "            <td>最終購入年月日</td>\n",
       "            <td>2019-01-30</td>\n",
       "        </tr>\n",
       "        <tr>\n",
       "            <td>5</td>\n",
       "            <td>0112</td>\n",
       "            <td>最終購入年月日</td>\n",
       "            <td>2019-02-01</td>\n",
       "        </tr>\n",
       "        <tr>\n",
       "            <td>6</td>\n",
       "            <td>0113</td>\n",
       "            <td>会員名</td>\n",
       "            <td>情報次郎</td>\n",
       "        </tr>\n",
       "    </tbody>\n",
       "</table>"
      ],
      "text/plain": [
       "[(1, '0111', '会員名', '情報太郎'),\n",
       " (2, '0111', '最終購入年月日', '2019-02-05'),\n",
       " (3, '0112', '会員名', '情報花子'),\n",
       " (4, '0112', '最終購入年月日', '2019-01-30'),\n",
       " (5, '0112', '最終購入年月日', '2019-02-01'),\n",
       " (6, '0113', '会員名', '情報次郎')]"
      ]
     },
     "execution_count": 13,
     "metadata": {},
     "output_type": "execute_result"
    }
   ],
   "source": [
    "%%sql\n",
    "select * from kaiin;"
   ]
  },
  {
   "cell_type": "markdown",
   "id": "46a48040",
   "metadata": {},
   "source": [
    "### Q: テーブルの条件のもと、以下の結果を得るために必要なSQLは？\n",
    "\n",
    "条件\n",
    "- 会員ごとに固有の会員番号を持つ\n",
    "- 同一会員番号で、同一項目名の行が複数ある場合、より大きい行番号の項目値を採用する\n",
    "\n",
    "| 会員番号 | 会員名 | 最終購入年月日 |\n",
    "| :---: | :---: | :---: |\n",
    "| 0111 | 情報太郎 | 2019-02-05 |\n",
    "| 0112 | 情報花子 | 2019-02-01 |\n",
    "| 0113 | 情報次郎 | NULL |"
   ]
  },
  {
   "cell_type": "code",
   "execution_count": null,
   "id": "5ccac47c",
   "metadata": {
    "vscode": {
     "languageId": "sql"
    }
   },
   "outputs": [
    {
     "name": "stdout",
     "output_type": "stream",
     "text": [
      "*  postgresql://padawan:***@db:5432/dsdojo_db\n",
      "3 rows affected.\n"
     ]
    },
    {
     "data": {
      "text/html": [
       "<table>\n",
       "    <thead>\n",
       "        <tr>\n",
       "            <th>会員番号</th>\n",
       "            <th>会員名</th>\n",
       "            <th>最終購入年月日</th>\n",
       "        </tr>\n",
       "    </thead>\n",
       "    <tbody>\n",
       "        <tr>\n",
       "            <td>0111</td>\n",
       "            <td>情報太郎</td>\n",
       "            <td>2019-02-05</td>\n",
       "        </tr>\n",
       "        <tr>\n",
       "            <td>0112</td>\n",
       "            <td>情報花子</td>\n",
       "            <td>2019-02-01</td>\n",
       "        </tr>\n",
       "        <tr>\n",
       "            <td>0113</td>\n",
       "            <td>情報次郎</td>\n",
       "            <td>None</td>\n",
       "        </tr>\n",
       "    </tbody>\n",
       "</table>"
      ],
      "text/plain": [
       "[('0111', '情報太郎', '2019-02-05'),\n",
       " ('0112', '情報花子', '2019-02-01'),\n",
       " ('0113', '情報次郎', None)]"
      ]
     },
     "execution_count": 25,
     "metadata": {},
     "output_type": "execute_result"
    }
   ],
   "source": [
    "%%sql\n",
    "-- A. 会員ごとに最新の会員名、最終購入年月日を取得\n",
    "SELECT\n",
    "    t1.会員番号,\n",
    "    MAX(CASE WHEN t1.項目名 = '会員名' THEN t1.項目値 END) AS 会員名,\n",
    "    MAX(CASE WHEN t1.項目名 = '最終購入年月日' THEN t1.項目値 END) AS 最終購入年月日\n",
    "FROM (\n",
    "    SELECT\n",
    "        t2.会員番号,\n",
    "        t2.項目名,\n",
    "        t2.項目値\n",
    "    FROM\n",
    "        kaiin t2\n",
    "    WHERE\n",
    "        t2.行番号 IN (\n",
    "            SELECT\n",
    "                MAX(行番号)\n",
    "            FROM\n",
    "                kaiin\n",
    "            GROUP BY\n",
    "                会員番号, 項目名\n",
    "        )\n",
    ") AS t1\n",
    "GROUP BY\n",
    "    t1.会員番号\n",
    "ORDER BY\n",
    "    t1.会員番号;"
   ]
  }
 ],
 "metadata": {
  "kernelspec": {
   "display_name": "Python 3 (ipykernel)",
   "language": "python",
   "name": "python3"
  },
  "language_info": {
   "codemirror_mode": {
    "name": "ipython",
    "version": 3
   },
   "file_extension": ".py",
   "mimetype": "text/x-python",
   "name": "python",
   "nbconvert_exporter": "python",
   "pygments_lexer": "ipython3",
   "version": "3.11.5"
  }
 },
 "nbformat": 4,
 "nbformat_minor": 5
}

{
 "cells": [
  {
   "cell_type": "code",
   "execution_count": 1,
   "id": "8ba33ca2",
   "metadata": {},
   "outputs": [],
   "source": [
    "%load_ext sql\n",
    "import os\n",
    "from sqlalchemy import create_engine\n",
    "\n",
    "pgconfig = {\n",
    "    'host': 'db',\n",
    "    'port': os.environ['PG_PORT'],\n",
    "    'database': os.environ['PG_DATABASE'],\n",
    "    'user': os.environ['PG_USER'],\n",
    "    'password': os.environ['PG_PASSWORD'],\n",
    "}\n",
    "dsl = 'postgresql://{user}:{password}@{host}:{port}/{database}'.format(**pgconfig)\n",
    "conn = create_engine(dsl)\n",
    "\n",
    "# MagicコマンドでSQLを書くための設定\n",
    "%sql conn"
   ]
  },
  {
   "cell_type": "code",
   "execution_count": 3,
   "id": "bb1bb4d0",
   "metadata": {
    "vscode": {
     "languageId": "sql"
    }
   },
   "outputs": [
    {
     "name": "stdout",
     "output_type": "stream",
     "text": [
      "*  postgresql://padawan:***@db:5432/dsdojo_db\n",
      "Done.\n",
      "Done.\n",
      "6 rows affected.\n",
      "4 rows affected.\n"
     ]
    },
    {
     "data": {
      "text/plain": [
       "[]"
      ]
     },
     "execution_count": 3,
     "metadata": {},
     "output_type": "execute_result"
    }
   ],
   "source": [
    "%%sql\n",
    "-- 商品テーブル\n",
    "CREATE TABLE 商品 (\n",
    "    商品コード CHAR(4) PRIMARY KEY, \n",
    "    商品名 VARCHAR(50) NOT NULL,\n",
    "    商品ランク CHAR(1)\n",
    ");\n",
    "\n",
    "-- 商品別売上実績テーブル\n",
    "CREATE TABLE 商品別売上実績 (\n",
    "    商品コード CHAR(4) PRIMARY KEY, \n",
    "    売上合計金額 INTEGER NOT NULL\n",
    ");\n",
    "\n",
    "INSERT INTO 商品 (商品コード, 商品名, 商品ランク) VALUES\n",
    "('S001', 'PPP', 'A'),\n",
    "('S002', 'QQQ', 'A'),\n",
    "('S003', 'RRR', 'A'),\n",
    "('S004', 'SSS', 'B'),\n",
    "('S005', 'TTT', 'C'),\n",
    "('S006', 'UUU', 'C');\n",
    "\n",
    "INSERT INTO 商品別売上実績 (商品コード, 売上合計金額) VALUES\n",
    "('S001', 50),\n",
    "('S003', 250),\n",
    "('S004', 350),\n",
    "('S006', 450);"
   ]
  },
  {
   "cell_type": "code",
   "execution_count": 4,
   "id": "52306267",
   "metadata": {
    "vscode": {
     "languageId": "sql"
    }
   },
   "outputs": [
    {
     "name": "stdout",
     "output_type": "stream",
     "text": [
      "*  postgresql://padawan:***@db:5432/dsdojo_db\n",
      "6 rows affected.\n"
     ]
    },
    {
     "data": {
      "text/html": [
       "<table>\n",
       "    <thead>\n",
       "        <tr>\n",
       "            <th>商品コード</th>\n",
       "            <th>商品名</th>\n",
       "            <th>商品ランク</th>\n",
       "        </tr>\n",
       "    </thead>\n",
       "    <tbody>\n",
       "        <tr>\n",
       "            <td>S001</td>\n",
       "            <td>PPP</td>\n",
       "            <td>A</td>\n",
       "        </tr>\n",
       "        <tr>\n",
       "            <td>S002</td>\n",
       "            <td>QQQ</td>\n",
       "            <td>A</td>\n",
       "        </tr>\n",
       "        <tr>\n",
       "            <td>S003</td>\n",
       "            <td>RRR</td>\n",
       "            <td>A</td>\n",
       "        </tr>\n",
       "        <tr>\n",
       "            <td>S004</td>\n",
       "            <td>SSS</td>\n",
       "            <td>B</td>\n",
       "        </tr>\n",
       "        <tr>\n",
       "            <td>S005</td>\n",
       "            <td>TTT</td>\n",
       "            <td>C</td>\n",
       "        </tr>\n",
       "        <tr>\n",
       "            <td>S006</td>\n",
       "            <td>UUU</td>\n",
       "            <td>C</td>\n",
       "        </tr>\n",
       "    </tbody>\n",
       "</table>"
      ],
      "text/plain": [
       "[('S001', 'PPP', 'A'),\n",
       " ('S002', 'QQQ', 'A'),\n",
       " ('S003', 'RRR', 'A'),\n",
       " ('S004', 'SSS', 'B'),\n",
       " ('S005', 'TTT', 'C'),\n",
       " ('S006', 'UUU', 'C')]"
      ]
     },
     "execution_count": 4,
     "metadata": {},
     "output_type": "execute_result"
    }
   ],
   "source": [
    "%%sql\n",
    "select * from 商品"
   ]
  },
  {
   "cell_type": "code",
   "execution_count": 5,
   "id": "60129924",
   "metadata": {
    "vscode": {
     "languageId": "sql"
    }
   },
   "outputs": [
    {
     "name": "stdout",
     "output_type": "stream",
     "text": [
      "*  postgresql://padawan:***@db:5432/dsdojo_db\n",
      "4 rows affected.\n"
     ]
    },
    {
     "data": {
      "text/html": [
       "<table>\n",
       "    <thead>\n",
       "        <tr>\n",
       "            <th>商品コード</th>\n",
       "            <th>売上合計金額</th>\n",
       "        </tr>\n",
       "    </thead>\n",
       "    <tbody>\n",
       "        <tr>\n",
       "            <td>S001</td>\n",
       "            <td>50</td>\n",
       "        </tr>\n",
       "        <tr>\n",
       "            <td>S003</td>\n",
       "            <td>250</td>\n",
       "        </tr>\n",
       "        <tr>\n",
       "            <td>S004</td>\n",
       "            <td>350</td>\n",
       "        </tr>\n",
       "        <tr>\n",
       "            <td>S006</td>\n",
       "            <td>450</td>\n",
       "        </tr>\n",
       "    </tbody>\n",
       "</table>"
      ],
      "text/plain": [
       "[('S001', 50), ('S003', 250), ('S004', 350), ('S006', 450)]"
      ]
     },
     "execution_count": 5,
     "metadata": {},
     "output_type": "execute_result"
    }
   ],
   "source": [
    "%%sql\n",
    "select * from 商品別売上実績"
   ]
  },
  {
   "cell_type": "markdown",
   "id": "9ca6ff3c",
   "metadata": {},
   "source": [
    "### 以下のSQLを実行して得られる売上平均金額は？\n",
    "\n",
    "```sql\n",
    "SELECT\n",
    "    AVG(売上合計金額) AS 売上平均金額\n",
    "FROM\n",
    "    商品 LEFT OUTER JOIN 商品別売上実績\n",
    "    ON\n",
    "        商品.商品コード = 商品別売上実績.商品コード\n",
    "WHERE\n",
    "    商品ランク = 'A'\n",
    "GROUP BY\n",
    "    商品ランク;\n",
    "```"
   ]
  },
  {
   "cell_type": "code",
   "execution_count": null,
   "id": "e63de5b7",
   "metadata": {
    "vscode": {
     "languageId": "sql"
    }
   },
   "outputs": [
    {
     "name": "stdout",
     "output_type": "stream",
     "text": [
      "*  postgresql://padawan:***@db:5432/dsdojo_db\n",
      "3 rows affected.\n"
     ]
    },
    {
     "data": {
      "text/html": [
       "<table>\n",
       "    <thead>\n",
       "        <tr>\n",
       "            <th>商品コード</th>\n",
       "            <th>商品名</th>\n",
       "            <th>商品ランク</th>\n",
       "            <th>商品コード_1</th>\n",
       "            <th>売上合計金額</th>\n",
       "        </tr>\n",
       "    </thead>\n",
       "    <tbody>\n",
       "        <tr>\n",
       "            <td>S001</td>\n",
       "            <td>PPP</td>\n",
       "            <td>A</td>\n",
       "            <td>S001</td>\n",
       "            <td>50</td>\n",
       "        </tr>\n",
       "        <tr>\n",
       "            <td>S002</td>\n",
       "            <td>QQQ</td>\n",
       "            <td>A</td>\n",
       "            <td>None</td>\n",
       "            <td>None</td>\n",
       "        </tr>\n",
       "        <tr>\n",
       "            <td>S003</td>\n",
       "            <td>RRR</td>\n",
       "            <td>A</td>\n",
       "            <td>S003</td>\n",
       "            <td>250</td>\n",
       "        </tr>\n",
       "    </tbody>\n",
       "</table>"
      ],
      "text/plain": [
       "[('S001', 'PPP', 'A', 'S001', 50),\n",
       " ('S002', 'QQQ', 'A', None, None),\n",
       " ('S003', 'RRR', 'A', 'S003', 250)]"
      ]
     },
     "execution_count": 7,
     "metadata": {},
     "output_type": "execute_result"
    }
   ],
   "source": [
    "%%sql\n",
    "-- NULLを含む行はAVG関数の分母に含まれるか？\n",
    "SELECT\n",
    "    *\n",
    "FROM\n",
    "    商品 LEFT OUTER JOIN 商品別売上実績\n",
    "    ON\n",
    "        商品.商品コード = 商品別売上実績.商品コード\n",
    "WHERE\n",
    "    商品ランク = 'A'"
   ]
  },
  {
   "cell_type": "code",
   "execution_count": 8,
   "id": "ec843a8f",
   "metadata": {
    "vscode": {
     "languageId": "sql"
    }
   },
   "outputs": [
    {
     "name": "stdout",
     "output_type": "stream",
     "text": [
      "*  postgresql://padawan:***@db:5432/dsdojo_db\n",
      "1 rows affected.\n"
     ]
    },
    {
     "data": {
      "text/html": [
       "<table>\n",
       "    <thead>\n",
       "        <tr>\n",
       "            <th>売上平均金額</th>\n",
       "        </tr>\n",
       "    </thead>\n",
       "    <tbody>\n",
       "        <tr>\n",
       "            <td>150.0000000000000000</td>\n",
       "        </tr>\n",
       "    </tbody>\n",
       "</table>"
      ],
      "text/plain": [
       "[(Decimal('150.0000000000000000'),)]"
      ]
     },
     "execution_count": 8,
     "metadata": {},
     "output_type": "execute_result"
    }
   ],
   "source": [
    "%%sql\n",
    "SELECT\n",
    "    AVG(売上合計金額) AS 売上平均金額\n",
    "FROM\n",
    "    商品 LEFT OUTER JOIN 商品別売上実績\n",
    "    ON\n",
    "        商品.商品コード = 商品別売上実績.商品コード\n",
    "WHERE\n",
    "    商品ランク = 'A'\n",
    "GROUP BY\n",
    "    商品ランク;"
   ]
  }
 ],
 "metadata": {
  "kernelspec": {
   "display_name": "Python 3 (ipykernel)",
   "language": "python",
   "name": "python3"
  },
  "language_info": {
   "codemirror_mode": {
    "name": "ipython",
    "version": 3
   },
   "file_extension": ".py",
   "mimetype": "text/x-python",
   "name": "python",
   "nbconvert_exporter": "python",
   "pygments_lexer": "ipython3",
   "version": "3.11.5"
  }
 },
 "nbformat": 4,
 "nbformat_minor": 5
}

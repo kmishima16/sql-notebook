{
 "cells": [
  {
   "cell_type": "code",
   "execution_count": 1,
   "id": "3e49fb56",
   "metadata": {},
   "outputs": [],
   "source": [
    "%load_ext sql\n",
    "import os\n",
    "from sqlalchemy import create_engine\n",
    "\n",
    "pgconfig = {\n",
    "    'host': 'db',\n",
    "    'port': os.environ['PG_PORT'],\n",
    "    'database': os.environ['PG_DATABASE'],\n",
    "    'user': os.environ['PG_USER'],\n",
    "    'password': os.environ['PG_PASSWORD'],\n",
    "}\n",
    "dsl = 'postgresql://{user}:{password}@{host}:{port}/{database}'.format(**pgconfig)\n",
    "conn = create_engine(dsl)\n",
    "\n",
    "# MagicコマンドでSQLを書くための設定\n",
    "%sql conn"
   ]
  },
  {
   "cell_type": "code",
   "execution_count": 2,
   "id": "32613f9b",
   "metadata": {
    "vscode": {
     "languageId": "sql"
    }
   },
   "outputs": [
    {
     "name": "stdout",
     "output_type": "stream",
     "text": [
      "*  postgresql://padawan:***@db:5432/dsdojo_db\n",
      "Done.\n",
      "7 rows affected.\n"
     ]
    },
    {
     "data": {
      "text/plain": [
       "[]"
      ]
     },
     "execution_count": 2,
     "metadata": {},
     "output_type": "execute_result"
    }
   ],
   "source": [
    "%%sql\n",
    "CREATE TABLE AdjacencyList (\n",
    "    parent_node VARCHAR(10) NULL,\n",
    "    child_node VARCHAR(10) NOT NULL,\n",
    "    PRIMARY KEY (child_node)\n",
    ");\n",
    "\n",
    "INSERT INTO AdjacencyList (parent_node, child_node) VALUES\n",
    "('NULL', 'A'),\n",
    "('A', 'B'),\n",
    "('A', 'C'),\n",
    "('B', 'D'),\n",
    "('B', 'E'),\n",
    "('C', 'F'),\n",
    "('F', 'G');"
   ]
  },
  {
   "cell_type": "code",
   "execution_count": 4,
   "id": "ced52885",
   "metadata": {
    "vscode": {
     "languageId": "sql"
    }
   },
   "outputs": [
    {
     "name": "stdout",
     "output_type": "stream",
     "text": [
      "*  postgresql://padawan:***@db:5432/dsdojo_db\n",
      "7 rows affected.\n"
     ]
    },
    {
     "data": {
      "text/html": [
       "<table>\n",
       "    <thead>\n",
       "        <tr>\n",
       "            <th>parent_node</th>\n",
       "            <th>child_node</th>\n",
       "        </tr>\n",
       "    </thead>\n",
       "    <tbody>\n",
       "        <tr>\n",
       "            <td>NULL</td>\n",
       "            <td>A</td>\n",
       "        </tr>\n",
       "        <tr>\n",
       "            <td>A</td>\n",
       "            <td>B</td>\n",
       "        </tr>\n",
       "        <tr>\n",
       "            <td>A</td>\n",
       "            <td>C</td>\n",
       "        </tr>\n",
       "        <tr>\n",
       "            <td>B</td>\n",
       "            <td>D</td>\n",
       "        </tr>\n",
       "        <tr>\n",
       "            <td>B</td>\n",
       "            <td>E</td>\n",
       "        </tr>\n",
       "        <tr>\n",
       "            <td>C</td>\n",
       "            <td>F</td>\n",
       "        </tr>\n",
       "        <tr>\n",
       "            <td>F</td>\n",
       "            <td>G</td>\n",
       "        </tr>\n",
       "    </tbody>\n",
       "</table>"
      ],
      "text/plain": [
       "[('NULL', 'A'),\n",
       " ('A', 'B'),\n",
       " ('A', 'C'),\n",
       " ('B', 'D'),\n",
       " ('B', 'E'),\n",
       " ('C', 'F'),\n",
       " ('F', 'G')]"
      ]
     },
     "execution_count": 4,
     "metadata": {},
     "output_type": "execute_result"
    }
   ],
   "source": [
    "%%sql\n",
    "SELECT * FROM AdjacencyList;"
   ]
  },
  {
   "cell_type": "markdown",
   "id": "13286d63",
   "metadata": {},
   "source": [
    "### Q: リーフノード(D, E, G)を取得するためのSQLは？"
   ]
  },
  {
   "cell_type": "code",
   "execution_count": 5,
   "id": "3e873f4a",
   "metadata": {
    "vscode": {
     "languageId": "sql"
    }
   },
   "outputs": [
    {
     "name": "stdout",
     "output_type": "stream",
     "text": [
      "*  postgresql://padawan:***@db:5432/dsdojo_db\n",
      "3 rows affected.\n"
     ]
    },
    {
     "data": {
      "text/html": [
       "<table>\n",
       "    <thead>\n",
       "        <tr>\n",
       "            <th>child_node</th>\n",
       "        </tr>\n",
       "    </thead>\n",
       "    <tbody>\n",
       "        <tr>\n",
       "            <td>D</td>\n",
       "        </tr>\n",
       "        <tr>\n",
       "            <td>G</td>\n",
       "        </tr>\n",
       "        <tr>\n",
       "            <td>E</td>\n",
       "        </tr>\n",
       "    </tbody>\n",
       "</table>"
      ],
      "text/plain": [
       "[('D',), ('G',), ('E',)]"
      ]
     },
     "execution_count": 5,
     "metadata": {},
     "output_type": "execute_result"
    }
   ],
   "source": [
    "%%sql\n",
    "SELECT child_node FROM AdjacencyList\n",
    "EXCEPT\n",
    "SELECT parent_node FROM AdjacencyList;"
   ]
  }
 ],
 "metadata": {
  "kernelspec": {
   "display_name": "Python 3 (ipykernel)",
   "language": "python",
   "name": "python3"
  },
  "language_info": {
   "codemirror_mode": {
    "name": "ipython",
    "version": 3
   },
   "file_extension": ".py",
   "mimetype": "text/x-python",
   "name": "python",
   "nbconvert_exporter": "python",
   "pygments_lexer": "ipython3",
   "version": "3.11.5"
  }
 },
 "nbformat": 4,
 "nbformat_minor": 5
}

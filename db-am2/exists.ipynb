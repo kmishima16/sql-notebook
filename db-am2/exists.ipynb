{
 "cells": [
  {
   "cell_type": "code",
   "execution_count": 1,
   "id": "03d0b5aa",
   "metadata": {},
   "outputs": [],
   "source": [
    "%load_ext sql\n",
    "import os\n",
    "from sqlalchemy import create_engine\n",
    "\n",
    "pgconfig = {\n",
    "    'host': 'db',\n",
    "    'port': os.environ['PG_PORT'],\n",
    "    'database': os.environ['PG_DATABASE'],\n",
    "    'user': os.environ['PG_USER'],\n",
    "    'password': os.environ['PG_PASSWORD'],\n",
    "}\n",
    "dsl = 'postgresql://{user}:{password}@{host}:{port}/{database}'.format(**pgconfig)\n",
    "conn = create_engine(dsl)\n",
    "\n",
    "# MagicコマンドでSQLを書くための設定\n",
    "%sql conn"
   ]
  },
  {
   "cell_type": "code",
   "execution_count": 2,
   "id": "e0456fd3",
   "metadata": {
    "vscode": {
     "languageId": "sql"
    }
   },
   "outputs": [
    {
     "name": "stdout",
     "output_type": "stream",
     "text": [
      "*  postgresql://padawan:***@db:5432/dsdojo_db\n",
      "Done.\n",
      "Done.\n",
      "7 rows affected.\n"
     ]
    },
    {
     "data": {
      "text/plain": [
       "[]"
      ]
     },
     "execution_count": 2,
     "metadata": {},
     "output_type": "execute_result"
    }
   ],
   "source": [
    "%%sql\n",
    "drop table if exists Employee;\n",
    "CREATE TABLE Employee (\n",
    "    EmployeeCode CHAR(4) PRIMARY KEY,  \n",
    "    ManagerCode CHAR(4),               \n",
    "    EmployeeName VARCHAR(50),         \n",
    "    FOREIGN KEY (ManagerCode) REFERENCES Employee(EmployeeCode) \n",
    ");\n",
    "\n",
    "INSERT INTO Employee (EmployeeCode, ManagerCode, EmployeeName) VALUES\n",
    "('S001', NULL, 'A'),\n",
    "('S002', 'S001', 'B'),\n",
    "('S003', 'S001', 'C'),\n",
    "('S004', 'S003', 'D'),\n",
    "('S005', NULL, 'E'),\n",
    "('S006', 'S005', 'F'),\n",
    "('S007', 'S006', 'G');"
   ]
  },
  {
   "cell_type": "code",
   "execution_count": 6,
   "id": "7ccb4ac8",
   "metadata": {
    "vscode": {
     "languageId": "sql"
    }
   },
   "outputs": [
    {
     "name": "stdout",
     "output_type": "stream",
     "text": [
      "*  postgresql://padawan:***@db:5432/dsdojo_db\n",
      "7 rows affected.\n"
     ]
    },
    {
     "data": {
      "text/html": [
       "<table>\n",
       "    <thead>\n",
       "        <tr>\n",
       "            <th>employeecode</th>\n",
       "            <th>managercode</th>\n",
       "            <th>employeename</th>\n",
       "        </tr>\n",
       "    </thead>\n",
       "    <tbody>\n",
       "        <tr>\n",
       "            <td>S001</td>\n",
       "            <td>None</td>\n",
       "            <td>A</td>\n",
       "        </tr>\n",
       "        <tr>\n",
       "            <td>S002</td>\n",
       "            <td>S001</td>\n",
       "            <td>B</td>\n",
       "        </tr>\n",
       "        <tr>\n",
       "            <td>S003</td>\n",
       "            <td>S001</td>\n",
       "            <td>C</td>\n",
       "        </tr>\n",
       "        <tr>\n",
       "            <td>S004</td>\n",
       "            <td>S003</td>\n",
       "            <td>D</td>\n",
       "        </tr>\n",
       "        <tr>\n",
       "            <td>S005</td>\n",
       "            <td>None</td>\n",
       "            <td>E</td>\n",
       "        </tr>\n",
       "        <tr>\n",
       "            <td>S006</td>\n",
       "            <td>S005</td>\n",
       "            <td>F</td>\n",
       "        </tr>\n",
       "        <tr>\n",
       "            <td>S007</td>\n",
       "            <td>S006</td>\n",
       "            <td>G</td>\n",
       "        </tr>\n",
       "    </tbody>\n",
       "</table>"
      ],
      "text/plain": [
       "[('S001', None, 'A'),\n",
       " ('S002', 'S001', 'B'),\n",
       " ('S003', 'S001', 'C'),\n",
       " ('S004', 'S003', 'D'),\n",
       " ('S005', None, 'E'),\n",
       " ('S006', 'S005', 'F'),\n",
       " ('S007', 'S006', 'G')]"
      ]
     },
     "execution_count": 6,
     "metadata": {},
     "output_type": "execute_result"
    }
   ],
   "source": [
    "%%sql\n",
    "SELECT * FROM Employee;"
   ]
  },
  {
   "cell_type": "markdown",
   "id": "bf661d91",
   "metadata": {},
   "source": [
    "### Q: 以下のコードを実行した結果はどうなるか？\n",
    "```sql\n",
    "SELECT \n",
    "    X.EmployeeCode \n",
    "FROM \n",
    "    Employee as X\n",
    "WHERE NOT EXISTS (\n",
    "    SELECT \n",
    "        * \n",
    "    FROM \n",
    "        Employee AS Y \n",
    "    WHERE X.EmployeeCode = Y.ManagerCode\n",
    ");\n",
    "```"
   ]
  },
  {
   "cell_type": "code",
   "execution_count": 5,
   "id": "8f8cf2a1",
   "metadata": {
    "vscode": {
     "languageId": "sql"
    }
   },
   "outputs": [
    {
     "name": "stdout",
     "output_type": "stream",
     "text": [
      "*  postgresql://padawan:***@db:5432/dsdojo_db\n",
      "3 rows affected.\n"
     ]
    },
    {
     "data": {
      "text/html": [
       "<table>\n",
       "    <thead>\n",
       "        <tr>\n",
       "            <th>employeecode</th>\n",
       "        </tr>\n",
       "    </thead>\n",
       "    <tbody>\n",
       "        <tr>\n",
       "            <td>S002</td>\n",
       "        </tr>\n",
       "        <tr>\n",
       "            <td>S007</td>\n",
       "        </tr>\n",
       "        <tr>\n",
       "            <td>S004</td>\n",
       "        </tr>\n",
       "    </tbody>\n",
       "</table>"
      ],
      "text/plain": [
       "[('S002',), ('S007',), ('S004',)]"
      ]
     },
     "execution_count": 5,
     "metadata": {},
     "output_type": "execute_result"
    }
   ],
   "source": [
    "%%sql\n",
    "SELECT \n",
    "    X.EmployeeCode \n",
    "FROM \n",
    "    Employee as X\n",
    "WHERE NOT EXISTS (\n",
    "    SELECT \n",
    "        * \n",
    "    FROM \n",
    "        Employee AS Y \n",
    "    WHERE X.EmployeeCode = Y.ManagerCode\n",
    ");"
   ]
  }
 ],
 "metadata": {
  "kernelspec": {
   "display_name": "Python 3 (ipykernel)",
   "language": "python",
   "name": "python3"
  },
  "language_info": {
   "codemirror_mode": {
    "name": "ipython",
    "version": 3
   },
   "file_extension": ".py",
   "mimetype": "text/x-python",
   "name": "python",
   "nbconvert_exporter": "python",
   "pygments_lexer": "ipython3",
   "version": "3.11.5"
  }
 },
 "nbformat": 4,
 "nbformat_minor": 5
}

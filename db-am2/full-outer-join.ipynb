{
 "cells": [
  {
   "cell_type": "code",
   "execution_count": 2,
   "id": "ded6cb1f",
   "metadata": {},
   "outputs": [
    {
     "name": "stdout",
     "output_type": "stream",
     "text": [
      "\u001b[33mThere's a new jupysql version available (0.11.1), you're running 0.7.2. To upgrade: pip install jupysql --upgrade\u001b[0m\n"
     ]
    }
   ],
   "source": [
    "%load_ext sql\n",
    "import os\n",
    "from sqlalchemy import create_engine\n",
    "\n",
    "pgconfig = {\n",
    "    'host': 'db',\n",
    "    'port': os.environ['PG_PORT'],\n",
    "    'database': os.environ['PG_DATABASE'],\n",
    "    'user': os.environ['PG_USER'],\n",
    "    'password': os.environ['PG_PASSWORD'],\n",
    "}\n",
    "dsl = 'postgresql://{user}:{password}@{host}:{port}/{database}'.format(**pgconfig)\n",
    "conn = create_engine(dsl)\n",
    "\n",
    "# MagicコマンドでSQLを書くための設定\n",
    "%sql conn"
   ]
  },
  {
   "cell_type": "code",
   "execution_count": 3,
   "id": "ff5b5c9e",
   "metadata": {
    "vscode": {
     "languageId": "sql"
    }
   },
   "outputs": [
    {
     "name": "stdout",
     "output_type": "stream",
     "text": [
      "*  postgresql://padawan:***@db:5432/dsdojo_db\n",
      "Done.\n",
      "Done.\n",
      "Done.\n",
      "Done.\n",
      "1 rows affected.\n",
      "1 rows affected.\n",
      "1 rows affected.\n",
      "1 rows affected.\n",
      "1 rows affected.\n",
      "1 rows affected.\n"
     ]
    },
    {
     "data": {
      "text/plain": [
       "[]"
      ]
     },
     "execution_count": 3,
     "metadata": {},
     "output_type": "execute_result"
    }
   ],
   "source": [
    "%%sql\n",
    "drop table if exists R;\n",
    "CREATE TABLE R (\n",
    "    ID INTEGER PRIMARY KEY,\n",
    "    名称1 VARCHAR(255)\n",
    ");\n",
    "\n",
    "drop table if exists S;\n",
    "CREATE TABLE S (\n",
    "    ID INTEGER PRIMARY KEY,\n",
    "    名称2 VARCHAR(255)\n",
    ");\n",
    "\n",
    "INSERT INTO R (ID, 名称1) VALUES (1, 'AAA');\n",
    "INSERT INTO R (ID, 名称1) VALUES (2, 'BBB');\n",
    "INSERT INTO R (ID, 名称1) VALUES (3, 'CCC');\n",
    "\n",
    "INSERT INTO S (ID, 名称2) VALUES (2, 'bbb');\n",
    "INSERT INTO S (ID, 名称2) VALUES (3, 'ccc');\n",
    "INSERT INTO S (ID, 名称2) VALUES (4, 'ddd');"
   ]
  },
  {
   "cell_type": "code",
   "execution_count": 7,
   "id": "d7cd235b",
   "metadata": {
    "vscode": {
     "languageId": "sql"
    }
   },
   "outputs": [
    {
     "name": "stdout",
     "output_type": "stream",
     "text": [
      "*  postgresql://padawan:***@db:5432/dsdojo_db\n",
      "3 rows affected.\n"
     ]
    },
    {
     "data": {
      "text/html": [
       "<table>\n",
       "    <thead>\n",
       "        <tr>\n",
       "            <th>id</th>\n",
       "            <th>名称1</th>\n",
       "        </tr>\n",
       "    </thead>\n",
       "    <tbody>\n",
       "        <tr>\n",
       "            <td>1</td>\n",
       "            <td>AAA</td>\n",
       "        </tr>\n",
       "        <tr>\n",
       "            <td>2</td>\n",
       "            <td>BBB</td>\n",
       "        </tr>\n",
       "        <tr>\n",
       "            <td>3</td>\n",
       "            <td>CCC</td>\n",
       "        </tr>\n",
       "    </tbody>\n",
       "</table>"
      ],
      "text/plain": [
       "[(1, 'AAA'), (2, 'BBB'), (3, 'CCC')]"
      ]
     },
     "execution_count": 7,
     "metadata": {},
     "output_type": "execute_result"
    }
   ],
   "source": [
    "%%sql\n",
    "SELECT *\n",
    "FROM R;"
   ]
  },
  {
   "cell_type": "code",
   "execution_count": 8,
   "id": "5964d3b4",
   "metadata": {
    "vscode": {
     "languageId": "sql"
    }
   },
   "outputs": [
    {
     "name": "stdout",
     "output_type": "stream",
     "text": [
      "*  postgresql://padawan:***@db:5432/dsdojo_db\n",
      "3 rows affected.\n"
     ]
    },
    {
     "data": {
      "text/html": [
       "<table>\n",
       "    <thead>\n",
       "        <tr>\n",
       "            <th>id</th>\n",
       "            <th>名称2</th>\n",
       "        </tr>\n",
       "    </thead>\n",
       "    <tbody>\n",
       "        <tr>\n",
       "            <td>2</td>\n",
       "            <td>bbb</td>\n",
       "        </tr>\n",
       "        <tr>\n",
       "            <td>3</td>\n",
       "            <td>ccc</td>\n",
       "        </tr>\n",
       "        <tr>\n",
       "            <td>4</td>\n",
       "            <td>ddd</td>\n",
       "        </tr>\n",
       "    </tbody>\n",
       "</table>"
      ],
      "text/plain": [
       "[(2, 'bbb'), (3, 'ccc'), (4, 'ddd')]"
      ]
     },
     "execution_count": 8,
     "metadata": {},
     "output_type": "execute_result"
    }
   ],
   "source": [
    "%%sql\n",
    "SELECT *\n",
    "FROM S;"
   ]
  },
  {
   "cell_type": "code",
   "execution_count": null,
   "id": "23dc9669",
   "metadata": {
    "vscode": {
     "languageId": "sql"
    }
   },
   "outputs": [
    {
     "name": "stdout",
     "output_type": "stream",
     "text": [
      "*  postgresql://padawan:***@db:5432/dsdojo_db\n",
      "4 rows affected.\n"
     ]
    },
    {
     "data": {
      "text/html": [
       "<table>\n",
       "    <thead>\n",
       "        <tr>\n",
       "            <th>id</th>\n",
       "            <th>名称1</th>\n",
       "            <th>id_1</th>\n",
       "            <th>名称2</th>\n",
       "        </tr>\n",
       "    </thead>\n",
       "    <tbody>\n",
       "        <tr>\n",
       "            <td>1</td>\n",
       "            <td>AAA</td>\n",
       "            <td>None</td>\n",
       "            <td>None</td>\n",
       "        </tr>\n",
       "        <tr>\n",
       "            <td>2</td>\n",
       "            <td>BBB</td>\n",
       "            <td>2</td>\n",
       "            <td>bbb</td>\n",
       "        </tr>\n",
       "        <tr>\n",
       "            <td>3</td>\n",
       "            <td>CCC</td>\n",
       "            <td>3</td>\n",
       "            <td>ccc</td>\n",
       "        </tr>\n",
       "        <tr>\n",
       "            <td>None</td>\n",
       "            <td>None</td>\n",
       "            <td>4</td>\n",
       "            <td>ddd</td>\n",
       "        </tr>\n",
       "    </tbody>\n",
       "</table>"
      ],
      "text/plain": [
       "[(1, 'AAA', None, None),\n",
       " (2, 'BBB', 2, 'bbb'),\n",
       " (3, 'CCC', 3, 'ccc'),\n",
       " (None, None, 4, 'ddd')]"
      ]
     },
     "execution_count": 5,
     "metadata": {},
     "output_type": "execute_result"
    }
   ],
   "source": [
    "%%sql\n",
    "-- FULL JOINの例\n",
    "SELECT\n",
    "    *\n",
    "FROM\n",
    "    R FULL JOIN S ON R.ID = S.ID\n",
    "ORDER BY R.ID"
   ]
  },
  {
   "cell_type": "markdown",
   "id": "0fd444cf",
   "metadata": {},
   "source": [
    "### Q: 以下のテーブルを作るために必要なクエリは？\n",
    "\n",
    "\n",
    "| ID | 名称 1 | 名称 2 |\n",
    "| :---: | :---: | :---: |\n",
    "| 1 | AAA | NULL |\n",
    "| 2 | BBB | bbb |\n",
    "| 3 | CCC | ccc |\n",
    "| 4 | NULL | ddd |\n"
   ]
  },
  {
   "cell_type": "code",
   "execution_count": null,
   "id": "4710e834",
   "metadata": {
    "vscode": {
     "languageId": "sql"
    }
   },
   "outputs": [
    {
     "name": "stdout",
     "output_type": "stream",
     "text": [
      "*  postgresql://padawan:***@db:5432/dsdojo_db\n",
      "4 rows affected.\n"
     ]
    },
    {
     "data": {
      "text/html": [
       "<table>\n",
       "    <thead>\n",
       "        <tr>\n",
       "            <th>id</th>\n",
       "            <th>名称1</th>\n",
       "            <th>名称2</th>\n",
       "        </tr>\n",
       "    </thead>\n",
       "    <tbody>\n",
       "        <tr>\n",
       "            <td>1</td>\n",
       "            <td>AAA</td>\n",
       "            <td>None</td>\n",
       "        </tr>\n",
       "        <tr>\n",
       "            <td>2</td>\n",
       "            <td>BBB</td>\n",
       "            <td>bbb</td>\n",
       "        </tr>\n",
       "        <tr>\n",
       "            <td>3</td>\n",
       "            <td>CCC</td>\n",
       "            <td>ccc</td>\n",
       "        </tr>\n",
       "        <tr>\n",
       "            <td>4</td>\n",
       "            <td>None</td>\n",
       "            <td>ddd</td>\n",
       "        </tr>\n",
       "    </tbody>\n",
       "</table>"
      ],
      "text/plain": [
       "[(1, 'AAA', None), (2, 'BBB', 'bbb'), (3, 'CCC', 'ccc'), (4, None, 'ddd')]"
      ]
     },
     "execution_count": 10,
     "metadata": {},
     "output_type": "execute_result"
    }
   ],
   "source": [
    "%%sql\n",
    "-- A. COALESCEを使ってIDを1つにまとめる\n",
    "SELECT\n",
    "    COALESCE(R.ID, S.ID) AS ID,\n",
    "    R.名称1,\n",
    "    S.名称2\n",
    "FROM\n",
    "    R FULL JOIN S ON R.ID = S.ID\n",
    "ORDER BY R.ID"
   ]
  }
 ],
 "metadata": {
  "kernelspec": {
   "display_name": "Python 3 (ipykernel)",
   "language": "python",
   "name": "python3"
  }
 },
 "nbformat": 4,
 "nbformat_minor": 5
}

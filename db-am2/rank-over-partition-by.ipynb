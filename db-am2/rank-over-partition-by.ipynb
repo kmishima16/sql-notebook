{
 "cells": [
  {
   "cell_type": "code",
   "execution_count": 1,
   "id": "7360648d",
   "metadata": {},
   "outputs": [],
   "source": [
    "%load_ext sql\n",
    "import os\n",
    "from sqlalchemy import create_engine\n",
    "\n",
    "pgconfig = {\n",
    "    'host': 'db',\n",
    "    'port': os.environ['PG_PORT'],\n",
    "    'database': os.environ['PG_DATABASE'],\n",
    "    'user': os.environ['PG_USER'],\n",
    "    'password': os.environ['PG_PASSWORD'],\n",
    "}\n",
    "dsl = 'postgresql://{user}:{password}@{host}:{port}/{database}'.format(**pgconfig)\n",
    "conn = create_engine(dsl)\n",
    "\n",
    "# MagicコマンドでSQLを書くための設定\n",
    "%sql conn"
   ]
  },
  {
   "cell_type": "code",
   "execution_count": null,
   "id": "4be2dc47",
   "metadata": {
    "vscode": {
     "languageId": "sql"
    }
   },
   "outputs": [
    {
     "name": "stdout",
     "output_type": "stream",
     "text": [
      "*  postgresql://padawan:***@db:5432/dsdojo_db\n",
      "Done.\n",
      "5 rows affected.\n"
     ]
    },
    {
     "data": {
      "text/plain": [
       "[]"
      ]
     },
     "execution_count": 3,
     "metadata": {},
     "output_type": "execute_result"
    }
   ],
   "source": [
    "%%sql\n",
    "drop table if exists seiseki;\n",
    "CREATE TABLE seiseki (\n",
    "    氏名 VARCHAR(50) NOT NULL,\n",
    "    クラス CHAR(1) NOT NULL,\n",
    "    得点 INT NOT NULL\n",
    ");\n",
    "\n",
    "INSERT INTO seiseki (氏名, クラス, 得点) VALUES\n",
    "('情報太郎', 'A', 80),\n",
    "('情報次郎', 'A', 63),\n",
    "('情報花子', 'B', 70),\n",
    "('情報桜子', 'B', 92),\n",
    "('情報三郎', 'A', 78);"
   ]
  },
  {
   "cell_type": "code",
   "execution_count": 4,
   "id": "8b1234cb",
   "metadata": {
    "vscode": {
     "languageId": "sql"
    }
   },
   "outputs": [
    {
     "name": "stdout",
     "output_type": "stream",
     "text": [
      "*  postgresql://padawan:***@db:5432/dsdojo_db\n",
      "5 rows affected.\n"
     ]
    },
    {
     "data": {
      "text/html": [
       "<table>\n",
       "    <thead>\n",
       "        <tr>\n",
       "            <th>氏名</th>\n",
       "            <th>クラス</th>\n",
       "            <th>得点</th>\n",
       "        </tr>\n",
       "    </thead>\n",
       "    <tbody>\n",
       "        <tr>\n",
       "            <td>情報太郎</td>\n",
       "            <td>A</td>\n",
       "            <td>80</td>\n",
       "        </tr>\n",
       "        <tr>\n",
       "            <td>情報次郎</td>\n",
       "            <td>A</td>\n",
       "            <td>63</td>\n",
       "        </tr>\n",
       "        <tr>\n",
       "            <td>情報花子</td>\n",
       "            <td>B</td>\n",
       "            <td>70</td>\n",
       "        </tr>\n",
       "        <tr>\n",
       "            <td>情報桜子</td>\n",
       "            <td>B</td>\n",
       "            <td>92</td>\n",
       "        </tr>\n",
       "        <tr>\n",
       "            <td>情報三郎</td>\n",
       "            <td>A</td>\n",
       "            <td>78</td>\n",
       "        </tr>\n",
       "    </tbody>\n",
       "</table>"
      ],
      "text/plain": [
       "[('情報太郎', 'A', 80),\n",
       " ('情報次郎', 'A', 63),\n",
       " ('情報花子', 'B', 70),\n",
       " ('情報桜子', 'B', 92),\n",
       " ('情報三郎', 'A', 78)]"
      ]
     },
     "execution_count": 4,
     "metadata": {},
     "output_type": "execute_result"
    }
   ],
   "source": [
    "%%sql\n",
    "SELECT * FROM seiseki;"
   ]
  },
  {
   "cell_type": "markdown",
   "id": "c9c0deb8",
   "metadata": {},
   "source": [
    "### Q: 下記の表を作るために必要なSQLは？\n",
    "\n",
    "| 氏名 | クラス | 得点 | 順位 |\n",
    "| :--- | :---: | :---: | :---: |\n",
    "| 情報太郎 | A | 80 | 1 |\n",
    "| 情報三郎 | A | 78 | 2 |\n",
    "| 情報次郎 | A | 63 | 3 |\n",
    "| 情報桜子 | B | 92 | 1 |\n",
    "| 情報花子 | B | 70 | 2 |\n"
   ]
  },
  {
   "cell_type": "code",
   "execution_count": null,
   "id": "b05e9500",
   "metadata": {
    "vscode": {
     "languageId": "sql"
    }
   },
   "outputs": [
    {
     "name": "stdout",
     "output_type": "stream",
     "text": [
      "*  postgresql://padawan:***@db:5432/dsdojo_db\n",
      "5 rows affected.\n"
     ]
    },
    {
     "data": {
      "text/html": [
       "<table>\n",
       "    <thead>\n",
       "        <tr>\n",
       "            <th>氏名</th>\n",
       "            <th>クラス</th>\n",
       "            <th>得点</th>\n",
       "            <th>ランク</th>\n",
       "        </tr>\n",
       "    </thead>\n",
       "    <tbody>\n",
       "        <tr>\n",
       "            <td>情報太郎</td>\n",
       "            <td>A</td>\n",
       "            <td>80</td>\n",
       "            <td>1</td>\n",
       "        </tr>\n",
       "        <tr>\n",
       "            <td>情報三郎</td>\n",
       "            <td>A</td>\n",
       "            <td>78</td>\n",
       "            <td>2</td>\n",
       "        </tr>\n",
       "        <tr>\n",
       "            <td>情報次郎</td>\n",
       "            <td>A</td>\n",
       "            <td>63</td>\n",
       "            <td>3</td>\n",
       "        </tr>\n",
       "        <tr>\n",
       "            <td>情報桜子</td>\n",
       "            <td>B</td>\n",
       "            <td>92</td>\n",
       "            <td>1</td>\n",
       "        </tr>\n",
       "        <tr>\n",
       "            <td>情報花子</td>\n",
       "            <td>B</td>\n",
       "            <td>70</td>\n",
       "            <td>2</td>\n",
       "        </tr>\n",
       "    </tbody>\n",
       "</table>"
      ],
      "text/plain": [
       "[('情報太郎', 'A', 80, 1),\n",
       " ('情報三郎', 'A', 78, 2),\n",
       " ('情報次郎', 'A', 63, 3),\n",
       " ('情報桜子', 'B', 92, 1),\n",
       " ('情報花子', 'B', 70, 2)]"
      ]
     },
     "execution_count": 5,
     "metadata": {},
     "output_type": "execute_result"
    }
   ],
   "source": [
    "%%sql\n",
    "-- A: RANK, PARTITION BYを用いてクラスごとに得点の高い順にランク付け\n",
    "SELECT\n",
    "    *,\n",
    "    RANK() OVER (PARTITION BY クラス ORDER BY 得点 DESC) AS 順位\n",
    "FROM\n",
    "    seiseki;"
   ]
  }
 ],
 "metadata": {
  "kernelspec": {
   "display_name": "Python 3 (ipykernel)",
   "language": "python",
   "name": "python3"
  },
  "language_info": {
   "codemirror_mode": {
    "name": "ipython",
    "version": 3
   },
   "file_extension": ".py",
   "mimetype": "text/x-python",
   "name": "python",
   "nbconvert_exporter": "python",
   "pygments_lexer": "ipython3",
   "version": "3.11.5"
  }
 },
 "nbformat": 4,
 "nbformat_minor": 5
}

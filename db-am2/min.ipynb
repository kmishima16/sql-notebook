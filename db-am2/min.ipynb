{
 "cells": [
  {
   "cell_type": "code",
   "execution_count": 1,
   "id": "c6724119",
   "metadata": {},
   "outputs": [],
   "source": [
    "%load_ext sql\n",
    "import os\n",
    "from sqlalchemy import create_engine\n",
    "\n",
    "pgconfig = {\n",
    "    'host': 'db',\n",
    "    'port': os.environ['PG_PORT'],\n",
    "    'database': os.environ['PG_DATABASE'],\n",
    "    'user': os.environ['PG_USER'],\n",
    "    'password': os.environ['PG_PASSWORD'],\n",
    "}\n",
    "dsl = 'postgresql://{user}:{password}@{host}:{port}/{database}'.format(**pgconfig)\n",
    "conn = create_engine(dsl)\n",
    "\n",
    "# MagicコマンドでSQLを書くための設定\n",
    "%sql conn"
   ]
  },
  {
   "cell_type": "code",
   "execution_count": 8,
   "id": "d5f43e2c",
   "metadata": {
    "vscode": {
     "languageId": "sql"
    }
   },
   "outputs": [
    {
     "name": "stdout",
     "output_type": "stream",
     "text": [
      "*  postgresql://padawan:***@db:5432/dsdojo_db\n",
      "Done.\n",
      "Done.\n",
      "5 rows affected.\n"
     ]
    },
    {
     "data": {
      "text/plain": [
       "[]"
      ]
     },
     "execution_count": 8,
     "metadata": {},
     "output_type": "execute_result"
    }
   ],
   "source": [
    "%%sql\n",
    "drop table if exists shain;\n",
    "CREATE TABLE shain (\n",
    "    社員番号 INT PRIMARY KEY,\n",
    "    社員名 VARCHAR(50) NOT NULL,\n",
    "    性別 CHAR(1),\n",
    "    生年月日 DATE\n",
    ");\n",
    "INSERT INTO shain (社員番号, 社員名, 性別, 生年月日) VALUES\n",
    "(1001, '情報一郎', '男', '1978-04-12'),\n",
    "(1002, '情報一子', '女', '1990-09-25'),\n",
    "(1003, '情報二郎', '男', '1985-11-03'),\n",
    "(1004, '情報二子', '女', '2001-07-18'),\n",
    "(1005, '情報三郎', '男', '1995-02-01');"
   ]
  },
  {
   "cell_type": "code",
   "execution_count": 9,
   "id": "4275b5ea",
   "metadata": {
    "vscode": {
     "languageId": "sql"
    }
   },
   "outputs": [
    {
     "name": "stdout",
     "output_type": "stream",
     "text": [
      "*  postgresql://padawan:***@db:5432/dsdojo_db\n",
      "5 rows affected.\n"
     ]
    },
    {
     "data": {
      "text/html": [
       "<table>\n",
       "    <thead>\n",
       "        <tr>\n",
       "            <th>社員番号</th>\n",
       "            <th>社員名</th>\n",
       "            <th>性別</th>\n",
       "            <th>生年月日</th>\n",
       "        </tr>\n",
       "    </thead>\n",
       "    <tbody>\n",
       "        <tr>\n",
       "            <td>1001</td>\n",
       "            <td>情報一郎</td>\n",
       "            <td>男</td>\n",
       "            <td>1978-04-12</td>\n",
       "        </tr>\n",
       "        <tr>\n",
       "            <td>1002</td>\n",
       "            <td>情報一子</td>\n",
       "            <td>女</td>\n",
       "            <td>1990-09-25</td>\n",
       "        </tr>\n",
       "        <tr>\n",
       "            <td>1003</td>\n",
       "            <td>情報二郎</td>\n",
       "            <td>男</td>\n",
       "            <td>1985-11-03</td>\n",
       "        </tr>\n",
       "        <tr>\n",
       "            <td>1004</td>\n",
       "            <td>情報二子</td>\n",
       "            <td>女</td>\n",
       "            <td>2001-07-18</td>\n",
       "        </tr>\n",
       "        <tr>\n",
       "            <td>1005</td>\n",
       "            <td>情報三郎</td>\n",
       "            <td>男</td>\n",
       "            <td>1995-02-01</td>\n",
       "        </tr>\n",
       "    </tbody>\n",
       "</table>"
      ],
      "text/plain": [
       "[(1001, '情報一郎', '男', datetime.date(1978, 4, 12)),\n",
       " (1002, '情報一子', '女', datetime.date(1990, 9, 25)),\n",
       " (1003, '情報二郎', '男', datetime.date(1985, 11, 3)),\n",
       " (1004, '情報二子', '女', datetime.date(2001, 7, 18)),\n",
       " (1005, '情報三郎', '男', datetime.date(1995, 2, 1))]"
      ]
     },
     "execution_count": 9,
     "metadata": {},
     "output_type": "execute_result"
    }
   ],
   "source": [
    "%%sql\n",
    "select * from shain;"
   ]
  },
  {
   "cell_type": "markdown",
   "id": "8900cc27",
   "metadata": {},
   "source": [
    "### Q: 男女それぞれの最年長を除いた社員を出力してください"
   ]
  },
  {
   "cell_type": "code",
   "execution_count": null,
   "id": "bba4e877",
   "metadata": {
    "vscode": {
     "languageId": "sql"
    }
   },
   "outputs": [
    {
     "name": "stdout",
     "output_type": "stream",
     "text": [
      "*  postgresql://padawan:***@db:5432/dsdojo_db\n",
      "3 rows affected.\n"
     ]
    },
    {
     "data": {
      "text/html": [
       "<table>\n",
       "    <thead>\n",
       "        <tr>\n",
       "            <th>社員番号</th>\n",
       "            <th>社員名</th>\n",
       "            <th>性別</th>\n",
       "            <th>生年月日</th>\n",
       "        </tr>\n",
       "    </thead>\n",
       "    <tbody>\n",
       "        <tr>\n",
       "            <td>1003</td>\n",
       "            <td>情報二郎</td>\n",
       "            <td>男</td>\n",
       "            <td>1985-11-03</td>\n",
       "        </tr>\n",
       "        <tr>\n",
       "            <td>1004</td>\n",
       "            <td>情報二子</td>\n",
       "            <td>女</td>\n",
       "            <td>2001-07-18</td>\n",
       "        </tr>\n",
       "        <tr>\n",
       "            <td>1005</td>\n",
       "            <td>情報三郎</td>\n",
       "            <td>男</td>\n",
       "            <td>1995-02-01</td>\n",
       "        </tr>\n",
       "    </tbody>\n",
       "</table>"
      ],
      "text/plain": [
       "[(1003, '情報二郎', '男', datetime.date(1985, 11, 3)),\n",
       " (1004, '情報二子', '女', datetime.date(2001, 7, 18)),\n",
       " (1005, '情報三郎', '男', datetime.date(1995, 2, 1))]"
      ]
     },
     "execution_count": 10,
     "metadata": {},
     "output_type": "execute_result"
    }
   ],
   "source": [
    "%%sql\n",
    "-- A: min関数により、s1と同じ性別を持つ全社員s2の中で最も早い生年月日を取得したものを検索条件に加える\n",
    "select \n",
    "    * \n",
    "from \n",
    "    shain as s1\n",
    "where\n",
    "    s1.生年月日 > (\n",
    "        select \n",
    "            min(s2.生年月日) \n",
    "        from \n",
    "            shain as s2 \n",
    "        where \n",
    "            s1.性別 = s2.性別\n",
    "    );"
   ]
  }
 ],
 "metadata": {
  "kernelspec": {
   "display_name": "Python 3 (ipykernel)",
   "language": "python",
   "name": "python3"
  },
  "language_info": {
   "codemirror_mode": {
    "name": "ipython",
    "version": 3
   },
   "file_extension": ".py",
   "mimetype": "text/x-python",
   "name": "python",
   "nbconvert_exporter": "python",
   "pygments_lexer": "ipython3",
   "version": "3.11.5"
  }
 },
 "nbformat": 4,
 "nbformat_minor": 5
}

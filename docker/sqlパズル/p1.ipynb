{
 "cells": [
  {
   "cell_type": "code",
   "execution_count": 1,
   "id": "2aba424b",
   "metadata": {},
   "outputs": [],
   "source": [
    "%load_ext sql\n",
    "import os\n",
    "from sqlalchemy import create_engine\n",
    "\n",
    "pgconfig = {\n",
    "    'host': 'db',\n",
    "    'port': os.environ['PG_PORT'],\n",
    "    'database': os.environ['PG_DATABASE'],\n",
    "    'user': os.environ['PG_USER'],\n",
    "    'password': os.environ['PG_PASSWORD'],\n",
    "}\n",
    "dsl = 'postgresql://{user}:{password}@{host}:{port}/{database}'.format(**pgconfig)\n",
    "conn = create_engine(dsl)\n",
    "\n",
    "# MagicコマンドでSQLを書くための設定\n",
    "%sql conn"
   ]
  },
  {
   "cell_type": "code",
   "execution_count": 14,
   "id": "3c10fa81",
   "metadata": {
    "vscode": {
     "languageId": "sql"
    }
   },
   "outputs": [
    {
     "name": "stdout",
     "output_type": "stream",
     "text": [
      "*  postgresql://padawan:***@db:5432/dsdojo_db\n",
      "Done.\n",
      "Done.\n",
      "1 rows affected.\n",
      "1 rows affected.\n",
      "1 rows affected.\n",
      "1 rows affected.\n",
      "1 rows affected.\n"
     ]
    },
    {
     "data": {
      "text/plain": [
       "[]"
      ]
     },
     "execution_count": 14,
     "metadata": {},
     "output_type": "execute_result"
    }
   ],
   "source": [
    "%%sql\n",
    "drop table if exists FiscalYearTable1;\n",
    "CREATE TABLE FiscalYearTable1 (\n",
    "  fiscal_year    INTEGER,\n",
    "  start_date     DATE,\n",
    "  end_date       DATE\n",
    ");\n",
    "\n",
    "--正常データ\n",
    "INSERT INTO FiscalYearTable1 VALUES(1995, '1994-10-01', '1995-09-30');\n",
    "INSERT INTO FiscalYearTable1 VALUES(1997, '1996-10-01', '1997-09-30');\n",
    "INSERT INTO FiscalYearTable1 VALUES(1998, '1997-10-01', '1998-09-30');\n",
    "\n",
    "--エラーデータ\n",
    "INSERT INTO FiscalYearTable1 VALUES(1996, '1995-10-01', '1996-08-30');  -- 終了日が8月\n",
    "INSERT INTO FiscalYearTable1 VALUES(1999, '1998-10-02', '1999-09-30');  -- 開始日が2日"
   ]
  },
  {
   "cell_type": "code",
   "execution_count": 12,
   "id": "f4e12c9a",
   "metadata": {
    "vscode": {
     "languageId": "sql"
    }
   },
   "outputs": [
    {
     "name": "stdout",
     "output_type": "stream",
     "text": [
      "*  postgresql://padawan:***@db:5432/dsdojo_db\n",
      "1 rows affected.\n"
     ]
    },
    {
     "data": {
      "text/html": [
       "<table>\n",
       "    <thead>\n",
       "        <tr>\n",
       "            <th>fiscal_year</th>\n",
       "        </tr>\n",
       "    </thead>\n",
       "    <tbody>\n",
       "        <tr>\n",
       "            <td>1995</td>\n",
       "        </tr>\n",
       "    </tbody>\n",
       "</table>"
      ],
      "text/plain": [
       "[(1995,)]"
      ]
     },
     "execution_count": 12,
     "metadata": {},
     "output_type": "execute_result"
    }
   ],
   "source": [
    "%%sql\n",
    "(SELECT f1.fiscal_year\n",
    "FROM FiscalYearTable1 AS f1\n",
    "WHERE '1995-06-30' BETWEEN f1.start_date AND f1.end_date);"
   ]
  },
  {
   "cell_type": "markdown",
   "id": "bb638e94",
   "metadata": {
    "vscode": {
     "languageId": "sql"
    }
   },
   "source": [
    "## 実装\n",
    "\n",
    "FiscalYearTable1は、各会計年度がいつから始まりいつで終わるのか、その日付の範囲を整理する。\n",
    "\n",
    "特定の日付から会計期に該当する年を取得するクエリは👆の通り。\n",
    "\n",
    "このテーブルにEXTRACT関数を使いながら、間違ったデータをinsertできないようにするにはどうすればよい？\n",
    "\n",
    "## テーブルに課すべき制約\n",
    "\n",
    "- fiscal_year は 主キー\n",
    "- start_date, end_dateはNOT_NULL\n",
    "- start_date, end_dateはunique\n",
    "- end_date - start_dateは365日？"
   ]
  }
 ],
 "metadata": {
  "kernelspec": {
   "display_name": "Python 3 (ipykernel)",
   "language": "python",
   "name": "python3"
  },
  "language_info": {
   "codemirror_mode": {
    "name": "ipython",
    "version": 3
   },
   "file_extension": ".py",
   "mimetype": "text/x-python",
   "name": "python",
   "nbconvert_exporter": "python",
   "pygments_lexer": "ipython3",
   "version": "3.11.5"
  }
 },
 "nbformat": 4,
 "nbformat_minor": 5
}
